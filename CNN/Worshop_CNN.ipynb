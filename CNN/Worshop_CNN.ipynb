{
  "nbformat": 4,
  "nbformat_minor": 5,
  "metadata": {
    "kernelspec": {
      "name": "python3",
      "display_name": "Python 3.8.8 64-bit ('base': conda)"
    },
    "language_info": {
      "name": "python",
      "version": "3.8.8",
      "mimetype": "text/x-python",
      "codemirror_mode": {
        "name": "ipython",
        "version": 3
      },
      "pygments_lexer": "ipython3",
      "nbconvert_exporter": "python",
      "file_extension": ".py"
    },
    "interpreter": {
      "hash": "b3ba2566441a7c06988d0923437866b63cedc61552a5af99d1f4fb67d367b25f"
    },
    "colab": {
      "name": "Worshop_CNN.ipynb",
      "private_outputs": true,
      "provenance": [],
      "collapsed_sections": [],
      "toc_visible": true,
      "include_colab_link": true
    },
    "accelerator": "GPU"
  },
  "cells": [
    {
      "cell_type": "markdown",
      "metadata": {
        "id": "view-in-github",
        "colab_type": "text"
      },
      "source": [
        "<a href=\"https://colab.research.google.com/github/Madeira-International-Workshop-in-ML/2021_day_1/blob/main/CNN/Worshop_CNN.ipynb\" target=\"_parent\"><img src=\"https://colab.research.google.com/assets/colab-badge.svg\" alt=\"Open In Colab\"/></a>"
      ]
    },
    {
      "cell_type": "markdown",
      "metadata": {
        "id": "FBvFC_RQwaHC"
      },
      "source": [
        "# Convolutional Neural Networks"
      ],
      "id": "FBvFC_RQwaHC"
    },
    {
      "cell_type": "code",
      "metadata": {
        "pycharm": {
          "name": "#%%\n"
        },
        "id": "v0m00eyFwaHE"
      },
      "source": [
        "import numpy as np\n",
        "from scipy import signal\n",
        "import pandas as pd\n",
        "\n",
        "import tensorflow as tf\n",
        "from tensorflow.keras.utils import to_categorical\n",
        "from tensorflow.keras.layers import Input, Dense, Conv1D, BatchNormalization, MaxPooling1D, Activation, Flatten, Conv2D, MaxPool2D\n",
        "\n",
        "from tensorflow.keras.models import Sequential\n",
        "\n",
        "import matplotlib.pyplot as plt\n",
        "import os\n",
        "import pickle\n",
        "\n",
        "import pydot \n",
        "import graphviz"
      ],
      "id": "v0m00eyFwaHE",
      "execution_count": null,
      "outputs": []
    },
    {
      "cell_type": "markdown",
      "metadata": {
        "id": "T6hgFn1Kc-cu"
      },
      "source": [
        "# MNIST data loading \n"
      ],
      "id": "T6hgFn1Kc-cu"
    },
    {
      "cell_type": "code",
      "metadata": {
        "pycharm": {
          "name": "#%%\n"
        },
        "id": "wIfiUTFTwaHF"
      },
      "source": [
        "# loading data\n",
        "#https://en.wikipedia.org/wiki/MNIST_database\n",
        "mnist = tf.keras.datasets.mnist\n",
        "(x_train, y_train),(x_test, y_test) = mnist.load_data()"
      ],
      "id": "wIfiUTFTwaHF",
      "execution_count": null,
      "outputs": []
    },
    {
      "cell_type": "code",
      "metadata": {
        "id": "-sGQHSDMwaHF"
      },
      "source": [
        "for i in range(9):\n",
        "\t# define subplot\n",
        "\tplt.subplot(330 + 1 + i)\n",
        "\t# plot raw pixel data\n",
        "\tplt.imshow(x_train[i], cmap=plt.get_cmap('gray'))\n",
        "# show the figure\n",
        "plt.show()"
      ],
      "id": "-sGQHSDMwaHF",
      "execution_count": null,
      "outputs": []
    },
    {
      "cell_type": "code",
      "metadata": {
        "id": "rJ3U1X3KwaHG"
      },
      "source": [
        "# data view\n",
        "#https://matplotlib.org/stable/api/_as_gen/matplotlib.pyplot.imshow.html\n",
        "plt.imshow(x_train[0],cmap=plt.cm.gray)\n",
        "plt.show()\n",
        "print(y_train[0])"
      ],
      "id": "rJ3U1X3KwaHG",
      "execution_count": null,
      "outputs": []
    },
    {
      "cell_type": "code",
      "metadata": {
        "id": "Qlkna2q9waHH"
      },
      "source": [
        "# train data \n",
        "x_train.shape"
      ],
      "id": "Qlkna2q9waHH",
      "execution_count": null,
      "outputs": []
    },
    {
      "cell_type": "code",
      "metadata": {
        "id": "XJ3jUdeIwaHH"
      },
      "source": [
        "# test data \n",
        "x_test.shape"
      ],
      "id": "XJ3jUdeIwaHH",
      "execution_count": null,
      "outputs": []
    },
    {
      "cell_type": "markdown",
      "metadata": {
        "id": "T6O1URsydNPM"
      },
      "source": [
        "# Convolutional Operation"
      ],
      "id": "T6O1URsydNPM"
    },
    {
      "cell_type": "code",
      "metadata": {
        "id": "hZpH30PzwaHI"
      },
      "source": [
        "#https://numpy.org/doc/stable/reference/generated/numpy.convolve.html\n",
        "sig =x_train[5]\n",
        "#sig=np.where(sig>0, 1,sig)\n",
        "plt.imshow(sig,cmap=plt.cm.gray)\n",
        "plt.show()\n",
        "\n",
        "win =np.array([[0., 0., 0.],[0, 1, 0],[0., 0., 0.]])\n",
        "plt.imshow(win,cmap=plt.cm.gray)\n",
        "plt.show()\n",
        "\n",
        "filtered = signal.convolve(sig, win, mode='same')\n",
        "for i in range(0,5):\n",
        "    filtered = signal.convolve(filtered, win, mode='same')\n",
        "filtered=np.where(filtered<0, 0,filtered)\n",
        "plt.imshow(filtered,cmap=plt.cm.gray)\n",
        "plt.show()\n",
        "\n",
        "change=filtered-sig\n",
        "#https://numpy.org/doc/stable/reference/generated/numpy.where.html\n",
        "change=np.where(change<0, 0,change)\n",
        "plt.imshow(change,cmap=plt.cm.binary)\n",
        "plt.show()\n",
        "#change"
      ],
      "id": "hZpH30PzwaHI",
      "execution_count": null,
      "outputs": []
    },
    {
      "cell_type": "code",
      "metadata": {
        "id": "2m0m6ObGwaHI"
      },
      "source": [
        "#https://numpy.org/doc/stable/reference/generated/numpy.convolve.html\n",
        "sig =x_train[5]\n",
        "#sig=np.where(sig>0, 1,sig)\n",
        "plt.imshow(sig,cmap=plt.cm.gray)\n",
        "plt.show()\n",
        "\n",
        "win =np.array([[0., 0., 0.],[0, 0, 1],[0., 0., 0.]])\n",
        "plt.imshow(win,cmap=plt.cm.gray)\n",
        "plt.show()\n",
        "\n",
        "filtered = signal.convolve(sig, win, mode='same')\n",
        "for i in range(0,5):\n",
        "     filtered = signal.convolve(filtered, win, mode='same')\n",
        "filtered=np.where(filtered<0, 0,filtered)\n",
        "plt.imshow(filtered,cmap=plt.cm.gray)\n",
        "plt.show()\n",
        "\n",
        "change=filtered-sig\n",
        "#https://numpy.org/doc/stable/reference/generated/numpy.where.html\n",
        "change=np.where(change<0, 0,change)\n",
        "plt.imshow(change,cmap=plt.cm.binary)\n",
        "plt.show()\n",
        "#change"
      ],
      "id": "2m0m6ObGwaHI",
      "execution_count": null,
      "outputs": []
    },
    {
      "cell_type": "code",
      "metadata": {
        "id": "RjJKvHIfwaHJ"
      },
      "source": [
        "#https://numpy.org/doc/stable/reference/generated/numpy.convolve.html\n",
        "sig =x_train[5]\n",
        "#sig=np.where(sig>0, 1,sig)\n",
        "plt.imshow(sig,cmap=plt.cm.gray)\n",
        "plt.show()\n",
        "\n",
        "win =np.array([[0., 1., 0.],[0, 0, 0],[0., 0., 0.]])\n",
        "plt.imshow(win,cmap=plt.cm.gray)\n",
        "plt.show()\n",
        "\n",
        "filtered = signal.convolve(sig, win, mode='same')\n",
        "for i in range(0,5):\n",
        "     filtered = signal.convolve(filtered, win, mode='same')\n",
        "filtered=np.where(filtered<0, 0,filtered)\n",
        "plt.imshow(filtered,cmap=plt.cm.gray)\n",
        "plt.show()\n",
        "\n",
        "change=filtered-sig\n",
        "#https://numpy.org/doc/stable/reference/generated/numpy.where.html\n",
        "change=np.where(change<0, 0,change)\n",
        "plt.imshow(change,cmap=plt.cm.binary)\n",
        "plt.show()\n",
        "#change"
      ],
      "id": "RjJKvHIfwaHJ",
      "execution_count": null,
      "outputs": []
    },
    {
      "cell_type": "code",
      "metadata": {
        "id": "MmjLLOmVwaHJ"
      },
      "source": [
        "#https://numpy.org/doc/stable/reference/generated/numpy.convolve.html\n",
        "sig =x_train[10]\n",
        "#sig=np.where(sig>0, 1,sig)\n",
        "plt.imshow(sig,cmap=plt.cm.gray)\n",
        "plt.show()\n",
        "\n",
        "win =np.array([[-1., -1., -1.],[-1., 8., -1.],[-1., -1., -1.]])\n",
        "plt.imshow(win,cmap=plt.cm.gray)\n",
        "plt.show()\n",
        "\n",
        "filtered = signal.convolve(sig, win, mode='same')\n",
        "# for i in range(0,2):\n",
        "#     filtered = signal.convolve(filtered, win, mode='same')\n",
        "filtered=np.where(filtered<0, 0,filtered)\n",
        "plt.imshow(filtered,cmap=plt.cm.gray)\n",
        "plt.show()\n",
        "\n",
        "change=filtered-sig\n",
        "#https://numpy.org/doc/stable/reference/generated/numpy.where.html\n",
        "change=np.where(change<0, 0,change)\n",
        "plt.imshow(change,cmap=plt.cm.binary)\n",
        "plt.show()\n",
        "#change"
      ],
      "id": "MmjLLOmVwaHJ",
      "execution_count": null,
      "outputs": []
    },
    {
      "cell_type": "markdown",
      "metadata": {
        "id": "b4sai1BYYxS4"
      },
      "source": [
        "![Conv.png](data:image/png;base64,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)"
      ],
      "id": "b4sai1BYYxS4"
    },
    {
      "cell_type": "markdown",
      "metadata": {
        "id": "MBRmuID2waHK"
      },
      "source": [
        "#https://www.tensorflow.org/api_docs/python/tf/keras/layers/Conv2D\n",
        "\n",
        "tf.keras.layers.Conv2D(\n",
        "    filters, kernel_size, strides=(1, 1), padding='valid',\n",
        "    activation=None,\n",
        "    )\n",
        "\n",
        "filters: Integer, the dimensionality of the output space (i.e. the number of output filters in the convolution). \n",
        "\n",
        "kernel_size:An integer or tuple/list of 2 integers, specifying the height and width of the 2D convolution window. Can be a single integer to specify the same value for all spatial dimensions. \n",
        "\n",
        "strides: An integer or tuple/list of 2 integers, specifying the strides of the convolution along the height and width. Can be a single integer to specify the same value for all spatial dimensions. Specifying any stride value != 1 is incompatible with specifying any dilation_rate value != 1.\n",
        "\n",
        "padding: one of \"valid\" or \"same\" (case-insensitive). \"valid\" means no padding. \"same\" results in padding with zeros evenly to the left/right or up/down of the input such that output has the same height/width dimension as the input. \n",
        "\n",
        "activation:\tActivation function to use. If you don't specify anything, no activation is applied (see keras.activations). "
      ],
      "id": "MBRmuID2waHK"
    },
    {
      "cell_type": "markdown",
      "metadata": {
        "id": "auvzjXwewaHL"
      },
      "source": [
        "outputs is Shrinking \n",
        "Loosing information on corners of the image"
      ],
      "id": "auvzjXwewaHL"
    },
    {
      "cell_type": "markdown",
      "metadata": {
        "id": "z5UQ_3LuwaHL"
      },
      "source": [
        "Second method: (((W - K + 2P)/S) + 1)\n",
        "        Here W = Input size\n",
        "        K = Filter size\n",
        "        S = Stride\n",
        "        P = Padding \n",
        "\n",
        "        inpput_size - (filter_size - 1)"
      ],
      "id": "z5UQ_3LuwaHL"
    },
    {
      "cell_type": "markdown",
      "metadata": {
        "id": "VzH1032edowP"
      },
      "source": [
        "# Data pre-process"
      ],
      "id": "VzH1032edowP"
    },
    {
      "cell_type": "code",
      "metadata": {
        "id": "moONINBowaHL"
      },
      "source": [
        "x_train = x_train.astype('float32') / 255.0\n",
        "x_test = x_test.astype('float32') / 255.0"
      ],
      "id": "moONINBowaHL",
      "execution_count": null,
      "outputs": []
    },
    {
      "cell_type": "code",
      "metadata": {
        "id": "0kbO4UHrwaHL"
      },
      "source": [
        "x_train = x_train.reshape(-1, 28, 28, 1)\n",
        "x_test = x_test.reshape(-1, 28, 28, 1)\n",
        "#-1 means that the length in that dimension is inferred."
      ],
      "id": "0kbO4UHrwaHL",
      "execution_count": null,
      "outputs": []
    },
    {
      "cell_type": "code",
      "metadata": {
        "id": "7YQstIkuwaHL"
      },
      "source": [
        "x_train.shape"
      ],
      "id": "7YQstIkuwaHL",
      "execution_count": null,
      "outputs": []
    },
    {
      "cell_type": "code",
      "metadata": {
        "id": "h4oPrTfgwaHM"
      },
      "source": [
        "y_train_cat = to_categorical(y_train, 10)\n",
        "y_test_cat = to_categorical(y_test, 10)"
      ],
      "id": "h4oPrTfgwaHM",
      "execution_count": null,
      "outputs": []
    },
    {
      "cell_type": "code",
      "metadata": {
        "id": "I_JZLQqowaHM"
      },
      "source": [
        "y_train_cat.shape"
      ],
      "id": "I_JZLQqowaHM",
      "execution_count": null,
      "outputs": []
    },
    {
      "cell_type": "code",
      "metadata": {
        "id": "r_MkoQvtwaHM"
      },
      "source": [
        "len(np.unique(y_train))"
      ],
      "id": "r_MkoQvtwaHM",
      "execution_count": null,
      "outputs": []
    },
    {
      "cell_type": "markdown",
      "metadata": {
        "id": "hDmPFaMNehL-"
      },
      "source": [
        "# Create a Sequential Model"
      ],
      "id": "hDmPFaMNehL-"
    },
    {
      "cell_type": "code",
      "metadata": {
        "id": "1yZAS72twaHN"
      },
      "source": [
        "model_sq = Sequential()\n",
        "\n",
        "model_sq.add(Conv2D(32, (3, 3), activation='relu', input_shape=(28, 28, 1)))\n",
        "model_sq.add(MaxPool2D(pool_size=(2, 2)))\n",
        "\n",
        "model_sq.add(Conv2D(64, (3, 3), activation='relu'))\n",
        "model_sq.add(MaxPool2D(pool_size=(2, 2)))\n",
        "\n",
        "model_sq.add(Flatten())\n",
        "\n",
        "model_sq.add(Dense(128, activation='relu'))\n",
        "\n",
        "model_sq.add(Dense(10, activation='softmax'))\n",
        "\n",
        "model_sq.compile(loss='categorical_crossentropy',\n",
        "              optimizer='adam',\n",
        "              metrics=['accuracy'])"
      ],
      "id": "1yZAS72twaHN",
      "execution_count": null,
      "outputs": []
    },
    {
      "cell_type": "markdown",
      "metadata": {
        "id": "vTsH8I1rwaHN"
      },
      "source": [
        "What we ceated"
      ],
      "id": "vTsH8I1rwaHN"
    },
    {
      "cell_type": "code",
      "metadata": {
        "id": "t_noW3hEwaHN"
      },
      "source": [
        "model_sq.summary()"
      ],
      "id": "t_noW3hEwaHN",
      "execution_count": null,
      "outputs": []
    },
    {
      "cell_type": "code",
      "metadata": {
        "id": "zwWvzxc5waHN"
      },
      "source": [
        "\n",
        "tf.keras.utils.plot_model(model_sq, \"my_first_model.png\")"
      ],
      "id": "zwWvzxc5waHN",
      "execution_count": null,
      "outputs": []
    },
    {
      "cell_type": "code",
      "metadata": {
        "id": "E2ynCvc7waHN"
      },
      "source": [
        "#Train the model.model"
      ],
      "id": "E2ynCvc7waHN",
      "execution_count": null,
      "outputs": []
    },
    {
      "cell_type": "code",
      "metadata": {
        "id": "gbbOydQ9waHN"
      },
      "source": [
        "model_sq_history = model_sq.fit(x_train, y_train_cat, batch_size=64,\n",
        "          epochs=5, verbose=1, validation_split=0.3)"
      ],
      "id": "gbbOydQ9waHN",
      "execution_count": null,
      "outputs": []
    },
    {
      "cell_type": "code",
      "metadata": {
        "id": "u4OMwHxJwaHO"
      },
      "source": [
        "def layer_visualizer(layer_name):\n",
        "  \n",
        "  layer_output=model_sq.get_layer(layer_name).output\n",
        "\n",
        "  intermediate_model=tf.keras.models.Model(inputs=model_sq.input,outputs=layer_output)\n",
        "\n",
        "  intermediate_prediction=intermediate_model.predict(x_train[0].reshape(1,28,28,1))\n",
        "  \n",
        "  row_size=8#4\n",
        "  col_size=int(np.floor((np.shape(intermediate_prediction)[3])/row_size))\n",
        "  \n",
        "  img_index=0\n",
        "\n",
        "  print(np.shape(intermediate_prediction))\n",
        "  \n",
        "  fig,ax=plt.subplots(row_size,col_size,figsize=(10,8))\n",
        "\n",
        "  for row in range(0,row_size):\n",
        "    for col in range(0,col_size):\n",
        "      ax[row][col].imshow(intermediate_prediction[0, :, :, img_index], cmap='gray')\n",
        "\n",
        "      img_index=img_index+1"
      ],
      "id": "u4OMwHxJwaHO",
      "execution_count": null,
      "outputs": []
    },
    {
      "cell_type": "code",
      "metadata": {
        "id": "xCz6NEo-waHO"
      },
      "source": [
        "layer_visualizer('conv2d')"
      ],
      "id": "xCz6NEo-waHO",
      "execution_count": null,
      "outputs": []
    },
    {
      "cell_type": "code",
      "metadata": {
        "id": "ZoyBD9jFwaHO"
      },
      "source": [
        "layer_visualizer('conv2d_1')"
      ],
      "id": "ZoyBD9jFwaHO",
      "execution_count": null,
      "outputs": []
    },
    {
      "cell_type": "code",
      "metadata": {
        "id": "ZsTlYxYIwaHO"
      },
      "source": [
        "plt.plot(model_sq_history.history['accuracy'], label='accuracy')\n",
        "plt.plot(model_sq_history.history['val_accuracy'], label = 'val_accuracy')\n",
        "plt.xlabel('Epoch')\n",
        "plt.ylabel('Accuracy')\n",
        "plt.ylim([0.9, 1])\n",
        "plt.legend(loc='lower right')\n",
        "\n",
        "test_loss, test_acc = model_sq.evaluate(x_test,  y_test_cat)\n",
        "print(test_acc)"
      ],
      "id": "ZsTlYxYIwaHO",
      "execution_count": null,
      "outputs": []
    },
    {
      "cell_type": "code",
      "metadata": {
        "id": "hULcasuwwaHO"
      },
      "source": [
        "y_pred = model_sq.predict(x_test)"
      ],
      "id": "hULcasuwwaHO",
      "execution_count": null,
      "outputs": []
    },
    {
      "cell_type": "code",
      "metadata": {
        "id": "RYEF7DRUwaHO"
      },
      "source": [
        "print(y_pred)"
      ],
      "id": "RYEF7DRUwaHO",
      "execution_count": null,
      "outputs": []
    },
    {
      "cell_type": "code",
      "metadata": {
        "id": "duw0dyodwaHO"
      },
      "source": [
        "y_pred_number=np.argmax(y_pred,axis=1)\n",
        "print(y_pred_number)"
      ],
      "id": "duw0dyodwaHO",
      "execution_count": null,
      "outputs": []
    },
    {
      "cell_type": "code",
      "metadata": {
        "id": "KnC_ypmAwaHO"
      },
      "source": [
        "from sklearn.metrics import confusion_matrix\n",
        "cf_matrix = confusion_matrix(np.argmax(y_test_cat,axis=1), np.argmax(y_pred,axis=1))"
      ],
      "id": "KnC_ypmAwaHO",
      "execution_count": null,
      "outputs": []
    },
    {
      "cell_type": "code",
      "metadata": {
        "id": "LfVXYF9LwaHP"
      },
      "source": [
        "print(cf_matrix)"
      ],
      "id": "LfVXYF9LwaHP",
      "execution_count": null,
      "outputs": []
    },
    {
      "cell_type": "code",
      "metadata": {
        "id": "WHhFNIcWwaHP"
      },
      "source": [
        "callbacks = [\n",
        "    tf.keras.callbacks.EarlyStopping(\n",
        "        # Stop training when `val_loss` is no longer improving\n",
        "        monitor=\"val_loss\",\n",
        "        # \"no longer improving\" being defined as \"no better than 1e-2 less\"\n",
        "        min_delta=1e-2,\n",
        "        # \"no longer improving\" being further defined as \"for at least 2 epochs\"\n",
        "        patience=2,\n",
        "        verbose=1,\n",
        "    )\n",
        "]\n",
        "model_sq_history=model_sq.fit(\n",
        "    x_train, \n",
        "    y_train_cat,\n",
        "    epochs=20,\n",
        "    batch_size=64,\n",
        "    callbacks=callbacks,\n",
        "    validation_split=0.3,\n",
        ")"
      ],
      "id": "WHhFNIcWwaHP",
      "execution_count": null,
      "outputs": []
    },
    {
      "cell_type": "code",
      "metadata": {
        "id": "nOfJT6MFwaHP"
      },
      "source": [
        "y_pred = model_sq.predict(x_test)\n",
        "cf_matrix = confusion_matrix(np.argmax(y_test_cat,axis=1), np.argmax(y_pred,axis=1))\n",
        "plt.plot(model_sq_history.history['accuracy'], label='accuracy')\n",
        "plt.plot(model_sq_history.history['val_accuracy'], label = 'val_accuracy')\n",
        "plt.xlabel('Epoch')\n",
        "plt.ylabel('Accuracy')\n",
        "plt.ylim([0.9, 1])\n",
        "plt.legend(loc='lower right')\n",
        "\n",
        "test_loss, test_acc = model_sq.evaluate(x_test,  y_test_cat)\n",
        "print(test_acc)\n",
        "print(cf_matrix)"
      ],
      "id": "nOfJT6MFwaHP",
      "execution_count": null,
      "outputs": []
    },
    {
      "cell_type": "code",
      "metadata": {
        "id": "4XctFflEwaHP"
      },
      "source": [
        "#save and load models\n",
        "#https://www.tensorflow.org/api_docs/python/tf/keras/models/save_model\n",
        "model_sq.save('model')\n",
        "loaded_model = tf.keras.models.load_model('model')\n"
      ],
      "id": "4XctFflEwaHP",
      "execution_count": null,
      "outputs": []
    },
    {
      "cell_type": "markdown",
      "metadata": {
        "id": "myxXOwGpe8LJ"
      },
      "source": [
        "# Create a Non Sequential Model (Functional Api)"
      ],
      "id": "myxXOwGpe8LJ"
    },
    {
      "cell_type": "code",
      "metadata": {
        "id": "riCxvDZwwaHP"
      },
      "source": [
        "inputs = tf.keras.Input(shape=(28, 28, 1))\n",
        "\n",
        "x=Conv2D(32, (3, 3), activation='relu')(inputs)\n",
        "x=MaxPool2D(pool_size=(2, 2)) (x)\n",
        "\n",
        "x1=Conv2D(64, (3, 3), activation='relu')(x)\n",
        "x1=MaxPool2D(pool_size=(2, 2))(x1)\n",
        "\n",
        "y1=Conv2D(64, (3, 3), activation='relu')(x1)\n",
        "y1=MaxPool2D(pool_size=(2, 2))(y1)\n",
        "\n",
        "y1=Flatten()(y1)\n",
        "\n",
        "z=Dense(128, activation='relu')(y1)\n",
        "\n",
        "outputs=Dense(10, activation='softmax')(z)\n",
        "\n",
        "\n",
        "model_non_sq = tf.keras.Model(inputs=inputs, outputs=outputs)\n",
        "model_non_sq.compile(loss='categorical_crossentropy',\n",
        "              optimizer='rmsprop',\n",
        "              metrics=['accuracy'])\n",
        "              \n",
        "tf.keras.utils.plot_model(model_non_sq, \"my_first_model.png\")\n"
      ],
      "id": "riCxvDZwwaHP",
      "execution_count": null,
      "outputs": []
    },
    {
      "cell_type": "code",
      "metadata": {
        "id": "oQvOfAaCwaHP"
      },
      "source": [
        "model_non_sq_history=model_non_sq.fit(\n",
        "    x_train, \n",
        "    y_train_cat,\n",
        "    epochs=20,\n",
        "    batch_size=64,\n",
        "    callbacks=callbacks,\n",
        "    validation_split=0.3,\n",
        ")"
      ],
      "id": "oQvOfAaCwaHP",
      "execution_count": null,
      "outputs": []
    },
    {
      "cell_type": "code",
      "metadata": {
        "id": "39ZNf2uiwaHQ"
      },
      "source": [
        "plt.plot(model_non_sq_history.history['accuracy'], label='accuracy')\n",
        "plt.plot(model_non_sq_history.history['val_accuracy'], label = 'val_accuracy')\n",
        "plt.xlabel('Epoch')\n",
        "plt.ylabel('Accuracy')\n",
        "plt.ylim([0.9, 1])\n",
        "plt.legend(loc='lower right')\n",
        "\n",
        "test_loss, test_acc = model_non_sq.evaluate(x_test,  y_test_cat)\n",
        "print(test_acc)"
      ],
      "id": "39ZNf2uiwaHQ",
      "execution_count": null,
      "outputs": []
    },
    {
      "cell_type": "code",
      "metadata": {
        "id": "ngbTq_ZWwaHQ"
      },
      "source": [
        "inputs = tf.keras.Input(shape=(28, 28, 1))\n",
        "\n",
        "x=Conv2D(32, (3, 3), activation='relu')(inputs)\n",
        "x=MaxPool2D(pool_size=(2, 2)) (x)\n",
        "\n",
        "x1=Conv2D(64, (3, 3), activation='relu')(x)\n",
        "x1=MaxPool2D(pool_size=(2, 2))(x1)\n",
        "\n",
        "y1=Conv2D(64, (3, 3), activation='relu')(x)\n",
        "y1=MaxPool2D(pool_size=(2, 2))(y1)\n",
        "\n",
        "z=tf.keras.layers.Concatenate(axis=1)([x1, y1])\n",
        "\n",
        "z=Flatten()(z)\n",
        "\n",
        "z=Dense(128, activation='relu')(z)\n",
        "\n",
        "outputs=Dense(10, activation='softmax')(z)\n",
        "\n",
        "\n",
        "model_non_sq_v2 = tf.keras.Model(inputs=inputs, outputs=outputs)\n",
        "model_non_sq_v2.compile(loss='categorical_crossentropy',\n",
        "              optimizer='rmsprop',\n",
        "              metrics=['accuracy'])"
      ],
      "id": "ngbTq_ZWwaHQ",
      "execution_count": null,
      "outputs": []
    },
    {
      "cell_type": "code",
      "metadata": {
        "id": "P_RmMvE2waHQ"
      },
      "source": [
        "model_non_sq_v2.summary()"
      ],
      "id": "P_RmMvE2waHQ",
      "execution_count": null,
      "outputs": []
    },
    {
      "cell_type": "code",
      "metadata": {
        "id": "HuUGlB0TwaHQ"
      },
      "source": [
        "callbacks = [\n",
        "    tf.keras.callbacks.EarlyStopping(\n",
        "        # Stop training when `val_loss` is no longer improving\n",
        "        monitor=\"val_loss\",\n",
        "        # \"no longer improving\" being defined as \"no better than 1e-2 less\"\n",
        "        min_delta=1e-2,\n",
        "        # \"no longer improving\" being further defined as \"for at least 2 epochs\"\n",
        "        patience=2,\n",
        "        verbose=1,\n",
        "    )\n",
        "]\n",
        "\n",
        "model_non_sq_v2_history=model_non_sq_v2.fit(\n",
        "    x_train,\n",
        "    y_train_cat,\n",
        "    epochs=5,\n",
        "    batch_size=64,\n",
        "    callbacks=callbacks,\n",
        "    validation_split=0.2,\n",
        ")"
      ],
      "id": "HuUGlB0TwaHQ",
      "execution_count": null,
      "outputs": []
    },
    {
      "cell_type": "code",
      "metadata": {
        "id": "cq01fmE8waHQ"
      },
      "source": [
        "tf.keras.utils.plot_model(model_non_sq_v2, \"model_non_sq.png\")"
      ],
      "id": "cq01fmE8waHQ",
      "execution_count": null,
      "outputs": []
    },
    {
      "cell_type": "code",
      "metadata": {
        "id": "kP49j_-DwaHQ"
      },
      "source": [
        "plt.plot(model_non_sq_v2_history.history['accuracy'], label='accuracy')\n",
        "plt.plot(model_non_sq_v2_history.history['val_accuracy'], label = 'val_accuracy')\n",
        "plt.xlabel('Epoch')\n",
        "plt.ylabel('Accuracy')\n",
        "plt.ylim([0.9, 1])\n",
        "plt.legend(loc='lower right')\n",
        "\n",
        "test_loss, test_acc = model_non_sq_v2.evaluate(x_test,  y_test_cat)\n",
        "y_test_pred = model_non_sq_v2.predict(x_test)\n",
        "print(test_acc)"
      ],
      "id": "kP49j_-DwaHQ",
      "execution_count": null,
      "outputs": []
    },
    {
      "cell_type": "code",
      "metadata": {
        "pycharm": {
          "name": "#%%\n"
        },
        "id": "TbMUyHwzwaHR"
      },
      "source": [
        ""
      ],
      "id": "TbMUyHwzwaHR",
      "execution_count": null,
      "outputs": []
    },
    {
      "cell_type": "code",
      "metadata": {
        "id": "zNRvLpTywaHR"
      },
      "source": [
        ""
      ],
      "id": "zNRvLpTywaHR",
      "execution_count": null,
      "outputs": []
    },
    {
      "cell_type": "markdown",
      "metadata": {
        "id": "Aeh91LVQe1_k"
      },
      "source": [
        "#  Color dataset cifar10"
      ],
      "id": "Aeh91LVQe1_k"
    },
    {
      "cell_type": "code",
      "metadata": {
        "id": "4h3YUZs2waHS"
      },
      "source": [
        "(x_train_cifar10, y_train_cifar10), (x_test_cifar10, y_test_cifar10) = tf.keras.datasets.cifar10.load_data()"
      ],
      "id": "4h3YUZs2waHS",
      "execution_count": null,
      "outputs": []
    },
    {
      "cell_type": "code",
      "metadata": {
        "id": "P_y05DgGwaHS"
      },
      "source": [
        "for i in range(9):\n",
        "\t# define subplot\n",
        "\tplt.subplot(330 + 1 + i)\n",
        "\t# plot raw pixel data\n",
        "\tplt.imshow(x_train_cifar10[i])\n",
        "# show the figure\n",
        "plt.show()"
      ],
      "id": "P_y05DgGwaHS",
      "execution_count": null,
      "outputs": []
    },
    {
      "cell_type": "code",
      "metadata": {
        "id": "dkXR65NFwaHS"
      },
      "source": [
        "x_train_cifar10.shape"
      ],
      "id": "dkXR65NFwaHS",
      "execution_count": null,
      "outputs": []
    },
    {
      "cell_type": "code",
      "metadata": {
        "id": "Ovr6kVeBwaHS"
      },
      "source": [
        "plt.imshow(x_train_cifar10[0])\n",
        "plt.show()"
      ],
      "id": "Ovr6kVeBwaHS",
      "execution_count": null,
      "outputs": []
    },
    {
      "cell_type": "code",
      "metadata": {
        "id": "_eFj2zWHwaHS"
      },
      "source": [
        "#https://www.tensorflow.org/api_docs/python/tf/image/resize\n",
        "train_resized_2828=tf.image.resize(x_train_cifar10,[28,28], method='nearest')\n",
        "test_resized_2828=tf.image.resize(x_test_cifar10,[28,28], method='nearest')\n",
        "y_train_cifar10_cat = to_categorical(y_train_cifar10, 10)\n",
        "y_test_cifar10_cat = to_categorical(y_test_cifar10, 10)"
      ],
      "id": "_eFj2zWHwaHS",
      "execution_count": null,
      "outputs": []
    },
    {
      "cell_type": "code",
      "metadata": {
        "id": "TRa_-qOkwaHS"
      },
      "source": [
        "model_sq_3ch = Sequential()\n",
        "\n",
        "model_sq_3ch.add(Conv2D(32, (3, 3), activation='relu',padding=\"same\", input_shape=(28, 28, 3)))\n",
        "model_sq_3ch.add(MaxPool2D(pool_size=(2, 2)))\n",
        "\n",
        "model_sq_3ch.add(Conv2D(64, (3, 3), activation='relu',padding=\"same\"))\n",
        "model_sq_3ch.add(MaxPool2D(pool_size=(2, 2)))\n",
        "\n",
        "model_sq_3ch.add(Conv2D(124, (3, 3), padding=\"same\", activation='relu'))\n",
        "model_sq_3ch.add(MaxPool2D(pool_size=(2, 2)))\n",
        "\n",
        "model_sq_3ch.add(Conv2D(32, (3, 3), padding=\"same\", activation='relu'))\n",
        "model_sq_3ch.add(MaxPool2D(pool_size=(2, 2)))\n",
        "\n",
        "model_sq_3ch.add(Flatten())\n",
        "\n",
        "model_sq_3ch.add(Dense(128, activation='relu'))\n",
        "\n",
        "model_sq_3ch.add(Dense(10, activation='softmax'))\n",
        "\n",
        "model_sq_3ch.compile(loss='categorical_crossentropy',\n",
        "              optimizer='adam',\n",
        "              metrics=['accuracy'])"
      ],
      "id": "TRa_-qOkwaHS",
      "execution_count": null,
      "outputs": []
    },
    {
      "cell_type": "code",
      "metadata": {
        "id": "5ttYiOQPwaHT"
      },
      "source": [
        "callbacks = [\n",
        "    tf.keras.callbacks.EarlyStopping(\n",
        "        # Stop training when `val_loss` is no longer improving\n",
        "        monitor=\"val_loss\",\n",
        "        # \"no longer improving\" being defined as \"no better than 1e-2 less\"\n",
        "        min_delta=1e-2,\n",
        "        # \"no longer improving\" being further defined as \"for at least 2 epochs\"\n",
        "        patience=2,\n",
        "        verbose=1,\n",
        "    )\n",
        "]\n",
        "\n",
        "model_sq_3ch_history=model_sq_3ch.fit(\n",
        "    train_resized_2828,\n",
        "    y_train_cifar10_cat,\n",
        "    epochs=20,\n",
        "    batch_size=64,\n",
        "    callbacks=callbacks,\n",
        "    validation_split=0.2,\n",
        ")"
      ],
      "id": "5ttYiOQPwaHT",
      "execution_count": null,
      "outputs": []
    },
    {
      "cell_type": "code",
      "metadata": {
        "id": "unv_5L-vwaHT"
      },
      "source": [
        "plt.plot(model_sq_3ch_history.history['accuracy'], label='accuracy')\n",
        "plt.plot(model_sq_3ch_history.history['val_accuracy'], label = 'val_accuracy')\n",
        "plt.xlabel('Epoch')\n",
        "plt.ylabel('Accuracy')\n",
        "plt.ylim([0.5, 1])\n",
        "plt.legend(loc='lower right')\n",
        "\n",
        "test_loss, test_acc = model_sq_3ch.evaluate(test_resized_2828,  y_test_cifar10_cat)\n",
        "y_test_pred = model_sq_3ch.predict(test_resized_2828)\n",
        "print(test_acc)\n",
        "\n"
      ],
      "id": "unv_5L-vwaHT",
      "execution_count": null,
      "outputs": []
    },
    {
      "cell_type": "code",
      "metadata": {
        "id": "js1JvFEywaHT"
      },
      "source": [
        ""
      ],
      "id": "js1JvFEywaHT",
      "execution_count": null,
      "outputs": []
    },
    {
      "cell_type": "code",
      "metadata": {
        "id": "20hrUBmSwaHT"
      },
      "source": [
        "grayscaled_train_2828 = tf.image.rgb_to_grayscale(train_resized_2828)\n",
        "grayscaled_test_2828 = tf.image.rgb_to_grayscale(test_resized_2828)\n"
      ],
      "id": "20hrUBmSwaHT",
      "execution_count": null,
      "outputs": []
    },
    {
      "cell_type": "code",
      "metadata": {
        "id": "ZQz-eZa2waHT"
      },
      "source": [
        "model_sq_1ch = Sequential()\n",
        "\n",
        "model_sq_1ch.add(Conv2D(32, (3, 3), activation='relu', input_shape=(28, 28, 1)))\n",
        "model_sq_1ch.add(MaxPool2D(pool_size=(2, 2)))\n",
        "\n",
        "model_sq_1ch.add(Conv2D(64, (3, 3), activation='relu',padding=\"same\"))\n",
        "model_sq_1ch.add(MaxPool2D(pool_size=(2, 2)))\n",
        "\n",
        "model_sq_1ch.add(Conv2D(124, (3, 3), padding=\"same\", activation='relu'))\n",
        "model_sq_1ch.add(MaxPool2D(pool_size=(2, 2)))\n",
        "\n",
        "model_sq_1ch.add(Conv2D(32, (3, 3), padding=\"same\", activation='relu'))\n",
        "model_sq_1ch.add(MaxPool2D(pool_size=(2, 2)))\n",
        "\n",
        "model_sq_1ch.add(Flatten())\n",
        "\n",
        "model_sq_1ch.add(Dense(128, activation='relu'))\n",
        "\n",
        "model_sq_1ch.add(Dense(10, activation='softmax'))\n",
        "\n",
        "model_sq_1ch.compile(loss='categorical_crossentropy',\n",
        "              optimizer='adam',\n",
        "              metrics=['accuracy'])"
      ],
      "id": "ZQz-eZa2waHT",
      "execution_count": null,
      "outputs": []
    },
    {
      "cell_type": "code",
      "metadata": {
        "id": "FFQKJTbAwaHT"
      },
      "source": [
        "callbacks = [\n",
        "    tf.keras.callbacks.EarlyStopping(\n",
        "        # Stop training when `val_loss` is no longer improving\n",
        "        monitor=\"val_loss\",\n",
        "        # \"no longer improving\" being defined as \"no better than 1e-2 less\"\n",
        "        min_delta=1e-2,\n",
        "        # \"no longer improving\" being further defined as \"for at least 2 epochs\"\n",
        "        patience=2,\n",
        "        verbose=1,\n",
        "    )\n",
        "]\n",
        "\n",
        "model_sq_1ch_history=model_sq_1ch.fit(\n",
        "    grayscaled_train_2828,\n",
        "    y_train_cifar10_cat,\n",
        "    epochs=20,\n",
        "    batch_size=64,\n",
        "    callbacks=callbacks,\n",
        "    validation_split=0.2,\n",
        ")"
      ],
      "id": "FFQKJTbAwaHT",
      "execution_count": null,
      "outputs": []
    },
    {
      "cell_type": "code",
      "metadata": {
        "id": "2SNQeIrmwaHT"
      },
      "source": [
        "plt.plot(model_sq_1ch_history.history['accuracy'], label='accuracy')\n",
        "plt.plot(model_sq_1ch_history.history['val_accuracy'], label = 'val_accuracy')\n",
        "plt.xlabel('Epoch')\n",
        "plt.ylabel('Accuracy')\n",
        "plt.ylim([0.5, 1])\n",
        "plt.legend(loc='lower right')\n",
        "\n",
        "test_loss, test_acc = model_sq_1ch.evaluate(grayscaled_test_2828,  y_test_cifar10_cat)\n",
        "y_test_pred = model_sq_1ch.predict(grayscaled_test_2828)\n",
        "print(test_acc)\n",
        "\n"
      ],
      "id": "2SNQeIrmwaHT",
      "execution_count": null,
      "outputs": []
    },
    {
      "cell_type": "markdown",
      "metadata": {
        "id": "Cq_AHZwXgJaP"
      },
      "source": [
        "#Transfer learning"
      ],
      "id": "Cq_AHZwXgJaP"
    },
    {
      "cell_type": "code",
      "metadata": {
        "id": "RgAJcU3SwaHT"
      },
      "source": [
        "print(model_non_sq.layers[-1].name)"
      ],
      "id": "RgAJcU3SwaHT",
      "execution_count": null,
      "outputs": []
    },
    {
      "cell_type": "code",
      "metadata": {
        "id": "Fke-U0zrJgzU"
      },
      "source": [
        "layer = tf.keras.layers.BatchNormalization()\n",
        "print(\"weights:\", len(layer.weights))\n",
        "print(\"trainable_weights:\", len(layer.trainable_weights))\n",
        "print(\"non_trainable_weights:\", len(layer.non_trainable_weights))\n"
      ],
      "id": "Fke-U0zrJgzU",
      "execution_count": null,
      "outputs": []
    },
    {
      "cell_type": "code",
      "metadata": {
        "id": "ScKOF1aIwaHU"
      },
      "source": [
        "for layer_number in range (0,len(model_sq.layers)-3):\n",
        "    model_sq.layers[layer_number].trainable = False\n",
        "    print('Layer ' +  model_sq.layers[layer_number].name + ' frozen.')"
      ],
      "id": "ScKOF1aIwaHU",
      "execution_count": null,
      "outputs": []
    },
    {
      "cell_type": "code",
      "metadata": {
        "id": "r8x8bwYDwaHU"
      },
      "source": [
        "flat1 = Flatten()(model_sq.layers[-1].output)\n",
        "class1 = Dense(124, activation='relu')(flat1)\n",
        "output = Dense(10, activation='softmax')(class1)\n",
        "# define new model\n",
        "model_transfer = tf.keras.Model(inputs=model_sq.inputs, outputs=output)"
      ],
      "id": "r8x8bwYDwaHU",
      "execution_count": null,
      "outputs": []
    },
    {
      "cell_type": "code",
      "metadata": {
        "id": "gZV7neV_waHU"
      },
      "source": [
        "model_transfer.compile(loss='categorical_crossentropy',\n",
        "              optimizer='adam',\n",
        "              metrics=['accuracy'])\n",
        "callbacks = [\n",
        "    tf.keras.callbacks.EarlyStopping(\n",
        "        # Stop training when `val_loss` is no longer improving\n",
        "        monitor=\"val_loss\",\n",
        "        # \"no longer improving\" being defined as \"no better than 1e-2 less\"\n",
        "        min_delta=1e-2,\n",
        "        # \"no longer improving\" being further defined as \"for at least 2 epochs\"\n",
        "        patience=10,\n",
        "        verbose=1,\n",
        "    )\n",
        "]\n",
        "\n",
        "model_transfer_history=model_transfer.fit(\n",
        "    x_train, \n",
        "    y_train_cat,\n",
        "    epochs=20,\n",
        "    batch_size=64,\n",
        "    callbacks=callbacks,\n",
        "    validation_split=0.2,\n",
        ")"
      ],
      "id": "gZV7neV_waHU",
      "execution_count": null,
      "outputs": []
    },
    {
      "cell_type": "code",
      "metadata": {
        "id": "qCe8Glk4waHU"
      },
      "source": [
        "plt.plot(model_transfer_history.history['accuracy'], label='accuracy')\n",
        "plt.plot(model_transfer_history.history['val_accuracy'], label = 'val_accuracy')\n",
        "plt.xlabel('Epoch')\n",
        "plt.ylabel('Accuracy')\n",
        "plt.ylim([0.9, 1])\n",
        "plt.legend(loc='lower right')\n",
        "\n",
        "test_loss, test_acc = model_transfer.evaluate(x_test,  y_test_cat)\n",
        "y_test_pred = model_transfer.predict(x_test)\n",
        "print(test_acc)\n",
        "\n"
      ],
      "id": "qCe8Glk4waHU",
      "execution_count": null,
      "outputs": []
    },
    {
      "cell_type": "markdown",
      "metadata": {
        "id": "ctWj8WFvgkGL"
      },
      "source": [
        "# 1 D CNN"
      ],
      "id": "ctWj8WFvgkGL"
    },
    {
      "cell_type": "code",
      "metadata": {
        "id": "_Somtw6av4yN"
      },
      "source": [
        "df = pd.read_csv(\"https://raw.githubusercontent.com/S2Mostafa/dataSpo2/main/XTest_trans.csv\")\n",
        "x_test_Spo2= df.to_numpy()"
      ],
      "id": "_Somtw6av4yN",
      "execution_count": null,
      "outputs": []
    },
    {
      "cell_type": "code",
      "metadata": {
        "id": "HNxCzePywykz"
      },
      "source": [
        "x_test_Spo2.shape"
      ],
      "id": "HNxCzePywykz",
      "execution_count": null,
      "outputs": []
    },
    {
      "cell_type": "code",
      "metadata": {
        "id": "keGSDkJc7oG4"
      },
      "source": [
        "# plotting\n",
        "plt.title(\"Data\")\n",
        "plt.xlabel(\"Samples\")\n",
        "plt.ylabel(\"SpO2\")\n",
        "plt.plot(x_test_Spo2[0][0:3000])\n",
        "plt.show()"
      ],
      "id": "keGSDkJc7oG4",
      "execution_count": null,
      "outputs": []
    },
    {
      "cell_type": "code",
      "metadata": {
        "id": "tCy9GdTMwRnQ"
      },
      "source": [
        "x_test_Spo2 = np.expand_dims(x_test_Spo2, axis = 2)"
      ],
      "id": "tCy9GdTMwRnQ",
      "execution_count": null,
      "outputs": []
    },
    {
      "cell_type": "code",
      "metadata": {
        "id": "MI8um9hlzgDO"
      },
      "source": [
        "x_test_Spo2.shape"
      ],
      "id": "MI8um9hlzgDO",
      "execution_count": null,
      "outputs": []
    },
    {
      "cell_type": "code",
      "metadata": {
        "id": "7VDi2uilzl_A"
      },
      "source": [
        "df_train_x = pd.read_csv(\"https://raw.githubusercontent.com/S2Mostafa/dataSpo2/main/X_train_trans.csv\")\n",
        "x_train_Spo2 = df_train_x.to_numpy()\n",
        "x_train_Spo2 = np.expand_dims(x_train_Spo2, axis = 2)\n",
        "df_ytest = pd.read_csv(\"https://raw.githubusercontent.com/S2Mostafa/dataSpo2/main/test_y_hot.csv\")\n",
        "y_test_Spo2= df_ytest.to_numpy()\n",
        "df_ytrain = pd.read_csv(\"https://raw.githubusercontent.com/S2Mostafa/dataSpo2/main/train_y_hot.csv\")\n",
        "y_train_Spo2= df_ytrain.to_numpy()"
      ],
      "id": "7VDi2uilzl_A",
      "execution_count": null,
      "outputs": []
    },
    {
      "cell_type": "code",
      "metadata": {
        "id": "Ua0t4iodwaHU"
      },
      "source": [
        "#create model\n",
        "model_conv1 = tf.keras.Sequential()\n",
        "\n",
        "#get number of columns in training data\n",
        "n_cols_2 = x_train_Spo2.shape[1]\n",
        "print(\"------>\", str(n_cols_2))\n",
        "\n",
        "\n",
        "#add layers to model\n",
        "model_conv1.add(Conv1D(15, 9, strides=5, padding='same', input_shape=(3000,1))) #Conv_1\n",
        "model_conv1.add(Activation(\"relu\"))\n",
        "model_conv1.add(BatchNormalization(axis=-1)) #Batch_1\n",
        "model_conv1.add(MaxPooling1D(pool_size=5, strides=5, padding='same')) #MaxP_1\n",
        "model_conv1.add(Conv1D(12, 8, strides=3, padding='same'))   #Conv_2\n",
        "model_conv1.add(Activation(\"relu\"))\n",
        "model_conv1.add(BatchNormalization(axis=-1)) #Batch_1\n",
        "model_conv1.add(Conv1D(8, 8, strides=3, padding='same'))    #Conv_3\n",
        "model_conv1.add(Activation(\"relu\"))\n",
        "model_conv1.add(BatchNormalization(axis=-1)) #Batch_1\n",
        "model_conv1.add(Conv1D(13, 4, strides=2, padding='same'))   #Conv_4\n",
        "model_conv1.add(Activation(\"relu\"))\n",
        "model_conv1.add(BatchNormalization(axis=-1)) #Batch_1\n",
        "model_conv1.add(Flatten())\n",
        "model_conv1.add(Dense(117)) #20-200\n",
        "model_conv1.add(Dense(2, activation='softmax'))"
      ],
      "id": "Ua0t4iodwaHU",
      "execution_count": null,
      "outputs": []
    },
    {
      "cell_type": "code",
      "metadata": {
        "id": "itof6hxywaHU"
      },
      "source": [
        "model_conv1.compile(loss='binary_crossentropy',\n",
        "                  optimizer='adam',metrics=['accuracy'])\n",
        "                  #metrics=[tf.keras.metrics.Accuracy()])\n",
        "#model.compile(loss=keras.losses.categorical_crossentropy,\n",
        "#              optimizer=keras.optimizers.SGD(learning_rate=0.01, momentum=0.9, nesterov=True))\n",
        "\n",
        "model_conv1.summary()"
      ],
      "id": "itof6hxywaHU",
      "execution_count": null,
      "outputs": []
    },
    {
      "cell_type": "code",
      "metadata": {
        "id": "IkhNj7Y7waHU"
      },
      "source": [
        "model_conv1_history=model_conv1.fit(\n",
        "    x_train_Spo2, \n",
        "    y_train_Spo2,\n",
        "    epochs=20,\n",
        "    batch_size=64,\n",
        "    validation_split=0.3,\n",
        ")"
      ],
      "id": "IkhNj7Y7waHU",
      "execution_count": null,
      "outputs": []
    },
    {
      "cell_type": "code",
      "metadata": {
        "id": "dZ93LGNZwaHU"
      },
      "source": [
        "callbacks = [\n",
        "    tf.keras.callbacks.EarlyStopping(\n",
        "        # Stop training when `val_loss` is no longer improving\n",
        "        monitor=\"val_loss\",\n",
        "        # \"no longer improving\" being defined as \"no better than 1e-2 less\"\n",
        "        min_delta=1e-2,\n",
        "        # \"no longer improving\" being further defined as \"for at least 2 epochs\"\n",
        "        patience=2,\n",
        "        verbose=1,\n",
        "    )\n",
        "]\n",
        "\n",
        "model_conv1_history=model_conv1.fit(\n",
        "    x_train_Spo2, \n",
        "    y_train_Spo2,\n",
        "    epochs=200,\n",
        "    batch_size=128,\n",
        "    callbacks=callbacks,\n",
        "    validation_split=0.3,\n",
        ")"
      ],
      "id": "dZ93LGNZwaHU",
      "execution_count": null,
      "outputs": []
    },
    {
      "cell_type": "code",
      "metadata": {
        "id": "tne9yT01waHV"
      },
      "source": [
        "plt.plot(model_conv1_history.history['accuracy'], label='accuracy')\n",
        "plt.plot(model_conv1_history.history['val_accuracy'], label = 'val_accuracy')\n",
        "plt.xlabel('Epoch')\n",
        "plt.ylabel('Accuracy')\n",
        "plt.ylim([0.8, 1])\n",
        "plt.legend(loc='lower right')\n",
        "\n",
        "test_loss, test_acc = model_conv1.evaluate(x_test_Spo2,  y_test_Spo2)\n",
        "y_test_pred = model_conv1.predict(x_test_Spo2)\n",
        "print(test_acc)"
      ],
      "id": "tne9yT01waHV",
      "execution_count": null,
      "outputs": []
    },
    {
      "cell_type": "code",
      "metadata": {
        "id": "TKHYJZA6waHV"
      },
      "source": [
        "import seaborn as sn\n",
        "columns = range(0,2)\n",
        "confm = confusion_matrix(np.argmax(y_test_Spo2,axis=1),np.argmax(y_test_pred,axis=1))\n",
        "df_cm = pd.DataFrame(confm, index=columns, columns=columns)\n",
        "ax = sn.heatmap(df_cm, cmap='Oranges', annot=True) "
      ],
      "id": "TKHYJZA6waHV",
      "execution_count": null,
      "outputs": []
    }
  ]
}